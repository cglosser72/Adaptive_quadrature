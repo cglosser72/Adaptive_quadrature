{
 "cells": [
  {
   "cell_type": "code",
   "execution_count": 2,
   "id": "4e3fa125-d340-4e33-91ac-049a5fdd8703",
   "metadata": {},
   "outputs": [],
   "source": [
    "import numpy as np\n",
    "import pandas as pd\n",
    "from scipy.special import zeta\n",
    "from scipy.special import roots_legendre\n",
    "from scipy.special import roots_jacobi\n",
    "from scipy.special import roots_laguerre\n",
    "from scipy.special import factorial\n",
    "from aq_python.polylog import  polylog_integrand \n",
    "from aq_python.polylog import  polylog_wrapper \n",
    "from aq_python.adaptive_quadrature import  AdaptiveGaussTree\n",
    "from aq_python.adaptive_gauss_batch import  AdaptiveGaussTreeBatch"
   ]
  },
  {
   "cell_type": "markdown",
   "id": "2116fccc-34bb-4093-b24e-8db13ea1d7ff",
   "metadata": {},
   "source": [
    "# Quadrature with Singular Endpoints\n",
    "There are two classes in aq_python.  The AdaptiveGaussTree intgrates a one dimensional function in which the endpoints have integrable singularites of the form $log^n(x)/x^\\alpha$ where $-1<\\alpha<=0$ AdaptiveGaussTreeBatch creates a batch of these integrals in which you can define a set of parameters an have the integral calculated for all of the parameter combinations.  Here, we use the  Borwein, Borwein & Girgensohn integral representation,\n",
    "$$\n",
    "\\mathrm{Li}_{s+1}(z) = \\frac{z}{s!} \\int_0^1 \\frac{\\mathrm{ln}^s\\left( \\frac{1}{t}\\right)}{1-tz}dt.\n",
    "$$\n",
    "We integrate this for $s$ values in the range $2 \\le s \\le 10$, and for values of $z$ covering the interesting range \n",
    "$-1 \\le z \\le 1$. Note that $\\mathrm{Li}_{s}(1) = \\zeta(s)$ is a good numerical check in the integral results.\n",
    "\n",
    "The Batch Integration allows you to input metadata to be written to a json file that will contain the integral results.\n",
    "\n",
    "There are two possible ways to instantiate a class.  The first is by giving the constuctor a configuration a test function and a configuration.  The defaults for the configuration are:\n",
    "* the_func\n",
    "* parameters=None\n",
    "* file=None\n",
    "* tol=1e-6\n",
    "* min_depth=2\n",
    "* max_depth=10\n",
    "* n1=5\n",
    "* n2=10\n",
    "* a_singular=False\n",
    "* b_singular=False\n",
    "* roots_legendre_n1=None\n",
    "* roots_laguerre_n1=None\n",
    "* roots_legendre_n2=None\n",
    "* roots_laguerre_n2=None\n",
    "* name=\"Batch Quadrature\"\n",
    "* author=None, version=\"1.0\"\n",
    "* reference=None\n",
    "* description=None\n",
    "* update_log_message='Initial Batch Creation'\n",
    "the_func is a function of a variable that can be integrated and of all of the parameters in the parameter set.  Generally you are going to want to use a lambda for this after you define your parameter set, as follows:\n"
   ]
  },
  {
   "cell_type": "code",
   "execution_count": null,
   "id": "e5ca4e14-d8e1-435e-baec-4763891558bf",
   "metadata": {},
   "outputs": [],
   "source": [
    "params = {\"s\": [z for z in range(2,11)], \"z\":  [x/10  for x in range(-10, 11)]}\n",
    "the_func=lambda params, t: polylog_integrand(params[\"s\"], params[\"z\"], t)"
   ]
  },
  {
   "cell_type": "markdown",
   "id": "ae8a2def-78bb-4509-80e3-e029f6a070c3",
   "metadata": {},
   "source": [
    "Now we specify the metadata for the json.  I hope that the following example is illustrative of the intended use here:"
   ]
  },
  {
   "cell_type": "code",
   "execution_count": null,
   "id": "ca9de2ff-b92d-47c6-9321-cd3eff01126b",
   "metadata": {},
   "outputs": [],
   "source": [
    "name_of_run = \"Polylogs\"\n",
    "the_reference='hep-thXXXXX'\n",
    "the_author='C. Glosser'\n",
    "the_version=\"1.0\"\n",
    "the_description='''\n",
    "Polylogs: Li_s(z), s:2-10, -1<z<1 for 20 pts.\n",
    "Uses the Borwein, Borwein & Girgensohn integral representation. \n",
    "Since we have log^n(x) we use transformed endpoints and \n",
    "Gauss-Laguerre quadrature at 0.\n",
    "'''"
   ]
  },
  {
   "cell_type": "markdown",
   "id": "fc4d6876-626d-484d-9ee8-32fc82a0a2db",
   "metadata": {},
   "source": [
    "Now we call the constructor with our parameterization.  The constructor automatically generates a binary tree for each possible cobination of the parameters."
   ]
  },
  {
   "cell_type": "code",
   "execution_count": 40,
   "id": "6004660e-b527-4d79-b3b4-cb305d6ca9dd",
   "metadata": {},
   "outputs": [],
   "source": [
    "ad_tree = AdaptiveGaussTreeBatch( the_func, \n",
    "        params, \n",
    "        tol=1e-14, \n",
    "        min_depth=3, \n",
    "        max_depth=14, \n",
    "        n1=40, \n",
    "        n2=100, \n",
    "        a_singular=True, \n",
    "        b_singular=False, \n",
    "        name=name_of_run, \n",
    "        author=the_author, \n",
    "        version=the_version,\n",
    "        reference=the_reference, \n",
    "        description=the_description)"
   ]
  },
  {
   "cell_type": "markdown",
   "id": "798f6def-b0ee-472e-acbe-e9379b11eb47",
   "metadata": {},
   "source": [
    "The save_to_json method writes then trees for each of the regression to a json file.  By default it will not overwrite an existing file. You can turn that off by setting prevent_overwrite to False"
   ]
  },
  {
   "cell_type": "code",
   "execution_count": 4,
   "id": "5005ecdf-bc7a-447e-bb21-5b079e9196a9",
   "metadata": {},
   "outputs": [
    {
     "name": "stdout",
     "output_type": "stream",
     "text": [
      "Error: model_json/polylogs.json exists. If you wish to overwrite the file, set prevent_overwrite=False\n"
     ]
    }
   ],
   "source": [
    "#ad_tree.print_trees( nested_dict=None, level=0)\n",
    "ad_tree.save_to_json('model_json/polylogs.json')"
   ]
  },
  {
   "cell_type": "code",
   "execution_count": 5,
   "id": "674579f2-eb85-423c-93a4-9896d835ff3d",
   "metadata": {},
   "outputs": [],
   "source": [
    "ad_tree.save_to_json('model_json/polylogs.json', prevent_overwrite=False)"
   ]
  },
  {
   "cell_type": "markdown",
   "id": "969df917-482b-4fc0-9f2f-75b543895ae1",
   "metadata": {},
   "source": [
    "The log can be manually updated using the add_update_log() member function. You can also add a message when loading an existing configuration, like we are doing here (this loads the integral we just calculate using the json file rather than recalcuating everything)."
   ]
  },
  {
   "cell_type": "code",
   "execution_count": 6,
   "id": "7e6b84cd-85ea-4358-8b98-edde979ee1fb",
   "metadata": {},
   "outputs": [],
   "source": [
    "new_tree= AdaptiveGaussTreeBatch(the_func, file = 'model_json/polylogs.json',  update_log_message='making some changes')"
   ]
  },
  {
   "cell_type": "markdown",
   "id": "f48a23c1-1ac5-4cea-a33c-553213868dec",
   "metadata": {},
   "source": [
    "As you can see the log has been updated in our instance.  If we save the json again the updates will appear with an new log entry"
   ]
  },
  {
   "cell_type": "code",
   "execution_count": 7,
   "id": "fd3ef69b-0e6e-4c75-a396-633f1abe9ca7",
   "metadata": {},
   "outputs": [
    {
     "data": {
      "text/plain": [
       "[{'timestamp': '2025-02-07T14:20:12.692983',\n",
       "  'message': 'Initial Batch Creation'},\n",
       " {'timestamp': '2025-02-07T14:20:12.917903', 'message': 'making some changes'}]"
      ]
     },
     "execution_count": 7,
     "metadata": {},
     "output_type": "execute_result"
    }
   ],
   "source": [
    "new_tree.update_log"
   ]
  },
  {
   "cell_type": "markdown",
   "id": "ec752a46-0b01-49a3-bd9a-1342081f5a05",
   "metadata": {},
   "source": [
    "If you have had a chance to look at the regressions, anbd you are happy with the results, then you can just save off the heads of the trees, and dump the regression parameters with \"dump_roots \" so that the unnessary info isn't taking up unneeded space."
   ]
  },
  {
   "cell_type": "code",
   "execution_count": 24,
   "id": "572ccf63-adc8-4c6c-b031-e23cbec49ea0",
   "metadata": {},
   "outputs": [],
   "source": [
    "new_tree.save_to_json('model_json/polylogs_no_tree.json', prevent_overwrite=False, write_trees=False, dump_roots=True)"
   ]
  },
  {
   "cell_type": "markdown",
   "id": "2c1db0ca-0e58-402c-8459-f77fab68b14f",
   "metadata": {},
   "source": [
    "If you ewant to do some analysis with the reults, the Python version dumps the tree into a DataFrame"
   ]
  },
  {
   "cell_type": "code",
   "execution_count": 70,
   "id": "d8e48391-5077-4f42-a799-4dc2f048a7b7",
   "metadata": {},
   "outputs": [
    {
     "data": {
      "text/html": [
       "<div>\n",
       "<style scoped>\n",
       "    .dataframe tbody tr th:only-of-type {\n",
       "        vertical-align: middle;\n",
       "    }\n",
       "\n",
       "    .dataframe tbody tr th {\n",
       "        vertical-align: top;\n",
       "    }\n",
       "\n",
       "    .dataframe thead th {\n",
       "        text-align: right;\n",
       "    }\n",
       "</style>\n",
       "<table border=\"1\" class=\"dataframe\">\n",
       "  <thead>\n",
       "    <tr style=\"text-align: right;\">\n",
       "      <th></th>\n",
       "      <th>s</th>\n",
       "      <th>z</th>\n",
       "      <th>a</th>\n",
       "      <th>b</th>\n",
       "      <th>depth</th>\n",
       "      <th>tol</th>\n",
       "      <th>error</th>\n",
       "      <th>integral</th>\n",
       "      <th>method</th>\n",
       "    </tr>\n",
       "  </thead>\n",
       "  <tbody>\n",
       "    <tr>\n",
       "      <th>0</th>\n",
       "      <td>2</td>\n",
       "      <td>-1.0</td>\n",
       "      <td>0</td>\n",
       "      <td>1</td>\n",
       "      <td>0</td>\n",
       "      <td>1.000000e-14</td>\n",
       "      <td>0.0</td>\n",
       "      <td>-0.822467</td>\n",
       "      <td>Gauss-Laguerre</td>\n",
       "    </tr>\n",
       "    <tr>\n",
       "      <th>1</th>\n",
       "      <td>2</td>\n",
       "      <td>-0.9</td>\n",
       "      <td>0</td>\n",
       "      <td>1</td>\n",
       "      <td>0</td>\n",
       "      <td>1.000000e-14</td>\n",
       "      <td>0.0</td>\n",
       "      <td>-0.752163</td>\n",
       "      <td>Gauss-Laguerre</td>\n",
       "    </tr>\n",
       "    <tr>\n",
       "      <th>2</th>\n",
       "      <td>2</td>\n",
       "      <td>-0.8</td>\n",
       "      <td>0</td>\n",
       "      <td>1</td>\n",
       "      <td>0</td>\n",
       "      <td>1.000000e-14</td>\n",
       "      <td>0.0</td>\n",
       "      <td>-0.679782</td>\n",
       "      <td>Gauss-Laguerre</td>\n",
       "    </tr>\n",
       "    <tr>\n",
       "      <th>3</th>\n",
       "      <td>2</td>\n",
       "      <td>-0.7</td>\n",
       "      <td>0</td>\n",
       "      <td>1</td>\n",
       "      <td>0</td>\n",
       "      <td>1.000000e-14</td>\n",
       "      <td>0.0</td>\n",
       "      <td>-0.605158</td>\n",
       "      <td>Gauss-Laguerre</td>\n",
       "    </tr>\n",
       "    <tr>\n",
       "      <th>4</th>\n",
       "      <td>2</td>\n",
       "      <td>-0.6</td>\n",
       "      <td>0</td>\n",
       "      <td>1</td>\n",
       "      <td>0</td>\n",
       "      <td>1.000000e-14</td>\n",
       "      <td>0.0</td>\n",
       "      <td>-0.528107</td>\n",
       "      <td>Gauss-Laguerre</td>\n",
       "    </tr>\n",
       "  </tbody>\n",
       "</table>\n",
       "</div>"
      ],
      "text/plain": [
       "   s     z  a  b  depth           tol  error  integral          method\n",
       "0  2  -1.0  0  1      0  1.000000e-14    0.0 -0.822467  Gauss-Laguerre\n",
       "1  2  -0.9  0  1      0  1.000000e-14    0.0 -0.752163  Gauss-Laguerre\n",
       "2  2  -0.8  0  1      0  1.000000e-14    0.0 -0.679782  Gauss-Laguerre\n",
       "3  2  -0.7  0  1      0  1.000000e-14    0.0 -0.605158  Gauss-Laguerre\n",
       "4  2  -0.6  0  1      0  1.000000e-14    0.0 -0.528107  Gauss-Laguerre"
      ]
     },
     "execution_count": 70,
     "metadata": {},
     "output_type": "execute_result"
    }
   ],
   "source": [
    "df = new_tree.to_dataframe()\n",
    "df.head()"
   ]
  },
  {
   "cell_type": "markdown",
   "id": "b8a75f2b-d7c4-43a4-a7f7-7fff12a2f2c5",
   "metadata": {},
   "source": [
    "Now we can plot so dilogs and see how we did!"
   ]
  },
  {
   "cell_type": "code",
   "execution_count": 11,
   "id": "a435ddf4-0842-435f-9b24-37fcc1778bdf",
   "metadata": {},
   "outputs": [
    {
     "data": {
      "image/png": "[encoded data removed]",
      "text/plain": [
       "<Figure size 640x480 with 1 Axes>"
      ]
     },
     "metadata": {},
     "output_type": "display_data"
    }
   ],
   "source": [
    "\n",
    "import matplotlib.pyplot as plt\n",
    "# Create the scatter plot\n",
    "fig, ax = plt.subplots()\n",
    "scatter = ax.scatter(df['z'], df['integral'], c=df['s'].astype('category').cat.codes, cmap='viridis')\n",
    "\n",
    "# Create the legend\n",
    "handles, labels = scatter.legend_elements(prop=\"colors\")\n",
    "ax.legend(handles, df['s'].unique(), title=\"s\")\n",
    "\n",
    "# Add labels and title\n",
    "plt.xlabel('z')\n",
    "plt.ylabel('Li_s(z)')\n",
    "plt.title('Polylog vs z')\n",
    "\n",
    "# Show the plot\n",
    "plt.show()\n"
   ]
  }
 ],
 "metadata": {
  "kernelspec": {
   "display_name": "Python [conda env:base] *",
   "language": "python",
   "name": "conda-base-py"
  },
  "language_info": {
   "codemirror_mode": {
    "name": "ipython",
    "version": 3
   },
   "file_extension": ".py",
   "mimetype": "text/x-python",
   "name": "python",
   "nbconvert_exporter": "python",
   "pygments_lexer": "ipython3",
   "version": "3.11.10"
  }
 },
 "nbformat": 4,
 "nbformat_minor": 5
}
